{
 "cells": [
  {
   "cell_type": "markdown",
   "id": "e48b8ceb-6bfc-431e-b2d5-855b4622982d",
   "metadata": {},
   "source": [
    "# Data Science Tools and Ecosystem #"
   ]
  },
  {
   "cell_type": "markdown",
   "id": "281323e8-e963-47e0-981e-9779121aa013",
   "metadata": {},
   "source": [
    "### In this notebook, Data Science Tools and Ecosystem are summarized."
   ]
  },
  {
   "cell_type": "markdown",
   "id": "4f7fd291-7bd9-4d29-b558-d9b336ef3689",
   "metadata": {},
   "source": [
    "1. Python\n",
    "2. R\n",
    "3. SQL"
   ]
  },
  {
   "cell_type": "markdown",
   "id": "adcdfe79-17e2-401e-a797-c6e752a3a61e",
   "metadata": {},
   "source": [
    "### Objectives:"
   ]
  },
  {
   "cell_type": "markdown",
   "id": "25417264-898e-41a1-9a7c-3eceac698d9f",
   "metadata": {
    "tags": []
   },
   "source": [
    "- Python\n",
    "- R\n",
    "- SQL"
   ]
  },
  {
   "cell_type": "markdown",
   "id": "c052da8c-1b66-4116-aa0e-297e99eef58e",
   "metadata": {},
   "source": [
    "1. scikit-learn\n",
    "2. Numpy\n",
    "3. Pandas"
   ]
  },
  {
   "cell_type": "markdown",
   "id": "36e1b134-6812-4a0f-9d79-14f552368522",
   "metadata": {},
   "source": [
    "|Data Science Tools|\n",
    "|------------------|\n",
    "|Hadoop|\n",
    "|Spark|\n",
    "|R studios|"
   ]
  },
  {
   "cell_type": "markdown",
   "id": "651a12ae-6c6b-4084-9e53-3a1c437ad0f2",
   "metadata": {},
   "source": [
    "#### Below are a few examples of evaluating arithmetic expressions in Python"
   ]
  },
  {
   "cell_type": "markdown",
   "id": "5233047f-a4ef-4d2b-8e70-b2a5e3880aaf",
   "metadata": {},
   "source": [
    "1. addition\n",
    "2. multiplication\n",
    "3. substraction\n",
    "4. division"
   ]
  },
  {
   "cell_type": "code",
   "execution_count": 6,
   "id": "36923a5b-b366-4be9-8119-a50a23def01d",
   "metadata": {
    "tags": []
   },
   "outputs": [
    {
     "data": {
      "text/plain": [
       "17"
      ]
     },
     "execution_count": 6,
     "metadata": {},
     "output_type": "execute_result"
    }
   ],
   "source": [
    "(3*4)+5"
   ]
  },
  {
   "cell_type": "code",
   "execution_count": 7,
   "id": "9f3f5842-3cca-4c2a-8956-4a4dd208f92d",
   "metadata": {
    "tags": []
   },
   "outputs": [],
   "source": [
    "#This a simple arithmetic expression to mutiply then add integers"
   ]
  },
  {
   "cell_type": "code",
   "execution_count": 10,
   "id": "2ae73d01-218c-4713-943f-de9fd2c6f762",
   "metadata": {
    "tags": []
   },
   "outputs": [
    {
     "data": {
      "text/plain": [
       "3"
      ]
     },
     "execution_count": 10,
     "metadata": {},
     "output_type": "execute_result"
    }
   ],
   "source": [
    "200 // 60"
   ]
  },
  {
   "cell_type": "code",
   "execution_count": 11,
   "id": "6ae9f198-31af-4abb-88c4-ec649154e975",
   "metadata": {
    "tags": []
   },
   "outputs": [],
   "source": [
    "#This will convert 200 minutes to hours by diving by 60"
   ]
  },
  {
   "cell_type": "markdown",
   "id": "ca5702bd-4e52-4d7a-9f9e-759dba71d5b8",
   "metadata": {},
   "source": [
    "## Author\n",
    "Sarthak Patil"
   ]
  },
  {
   "cell_type": "markdown",
   "id": "b0d326ae-2a60-4b14-b2d3-567bc8a8cc5e",
   "metadata": {},
   "source": []
  }
 ],
 "metadata": {
  "kernelspec": {
   "display_name": "Python",
   "language": "python",
   "name": "conda-env-python-py"
  },
  "language_info": {
   "codemirror_mode": {
    "name": "ipython",
    "version": 3
   },
   "file_extension": ".py",
   "mimetype": "text/x-python",
   "name": "python",
   "nbconvert_exporter": "python",
   "pygments_lexer": "ipython3",
   "version": "3.7.12"
  }
 },
 "nbformat": 4,
 "nbformat_minor": 5
}
